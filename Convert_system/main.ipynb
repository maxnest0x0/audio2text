{
 "cells": [
  {
   "cell_type": "code",
   "execution_count": 29,
   "id": "8f863628-7dc8-4b99-94cb-7e1d567cbcad",
   "metadata": {},
   "outputs": [],
   "source": [
    "import whisper\n",
    "import torch\n"
   ]
  },
  {
   "cell_type": "code",
   "execution_count": 24,
   "id": "54729b4d-9c4b-4e9e-b61a-b3fbd2abc73d",
   "metadata": {},
   "outputs": [],
   "source": [
    "class AudioTranscriber:\n",
    "    def __init__(self, model_version: str ='turbo', language: str ='ru', device: str = None) -> None:       \n",
    "        self.device = device or (\"cuda\" if torch.cuda.is_available() else \"cpu\")\n",
    "        self.model =  whisper.load_model(model_version, device=device)\n",
    "        \n",
    "        self.language = language        \n",
    "        \n",
    "    def set_audio(self, audio_path) -> None:\n",
    "        self.audio_path = audio_path\n",
    "        \n",
    "    def remove_the_noise(self) -> None:\n",
    "        pass\n",
    "\n",
    "    def __transcribe(self):\n",
    "        return self.model.transcribe(self.audio_path, language=self.language)\n",
    "\n",
    "    def recognize_the_polyphony(self):\n",
    "        pass\n",
    "        \n",
    "    def get_result(self) -> str:\n",
    "        return self.__transcribe()['text']\n",
    "\n",
    "    "
   ]
  },
  {
   "cell_type": "code",
   "execution_count": null,
   "id": "eb61d343-e8d8-4390-84dd-ad4a2c968c68",
   "metadata": {},
   "outputs": [],
   "source": [
    "transcriber = AudioTranscriber()\n",
    "transcriber.set_audio('audio.ogg')\n",
    "transcriber.get_result()"
   ]
  },
  {
   "cell_type": "code",
   "execution_count": null,
   "id": "c504566e-088c-4c0c-9815-18039355fd95",
   "metadata": {},
   "outputs": [],
   "source": []
  }
 ],
 "metadata": {
  "kernelspec": {
   "display_name": "Python 3 (ipykernel)",
   "language": "python",
   "name": "python3"
  },
  "language_info": {
   "codemirror_mode": {
    "name": "ipython",
    "version": 3
   },
   "file_extension": ".py",
   "mimetype": "text/x-python",
   "name": "python",
   "nbconvert_exporter": "python",
   "pygments_lexer": "ipython3",
   "version": "3.13.2"
  }
 },
 "nbformat": 4,
 "nbformat_minor": 5
}
