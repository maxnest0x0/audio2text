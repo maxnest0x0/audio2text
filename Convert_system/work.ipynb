{
 "cells": [
  {
   "cell_type": "code",
   "execution_count": null,
   "id": "07c36e26-a27b-49a9-8c5a-8bd5f853f508",
   "metadata": {},
   "outputs": [],
   "source": [
    "from pyannote.audio import Pipeline\n",
    "import whisper\n",
    "import torch\n",
    "from pyannote.core import Segment\n",
    "import time\n",
    "\n",
    "\n",
    "device = torch.device(\"cuda\" if torch.cuda.is_available() else \"cpu\")\n",
    "print(f\"Используемое устройство: {device}\")\n",
    "print(\"Загрузка моделей...\")\n",
    "try:\n",
    "    diarization_pipeline = Pipeline.from_pretrained(\n",
    "        \"pyannote/speaker-diarization-3.1\",\n",
    "        use_auth_token=\"\"\n",
    "    )\n",
    "    diarization_pipeline.to(device)    \n",
    "    whisper_model = whisper.load_model(\"turbo\").to(device)    \n",
    "    audio_file = \"/kaggle/input/werty21222/audio.mp3\"   \n",
    "    \n",
    "    print(\"\\nВыполнение диаризации...\")\n",
    "    start_time = time.time()\n",
    "    diarization = diarization_pipeline(audio_file)\n",
    "    print(f\"Диаризация выполнена за {time.time() - start_time:.2f} сек\")    \n",
    "    \n",
    "    print(\"\\nТранскрибация сегментов...\")\n",
    "    results = []\n",
    "    \n",
    "    audio = whisper.load_audio(audio_file) \n",
    "    \n",
    "    for segment, _, speaker in diarization.itertracks(yield_label=True):\n",
    "        start, end = segment.start, segment.end\n",
    "        print(f\"\\nСпикер {speaker} ({start:.1f}-{end:.1f} сек):\")        \n",
    "         \n",
    "        audio_segment = audio[int(start * 16000):int(end * 16000)]\n",
    "        \n",
    "        result = whisper_model.transcribe(audio_segment)\n",
    "        text = result[\"text\"]\n",
    "        print(text)        \n",
    "        results.append({\n",
    "            \"speaker\": speaker,\n",
    "            \"start\": start,\n",
    "            \"end\": end,\n",
    "            \"text\": text\n",
    "        })\n",
    "    \n",
    "    print(\"\\nФинальные результаты:\")\n",
    "    for item in results:\n",
    "        print(f\"[{item['start']:.1f}-{item['end']:.1f}] {item['speaker']}: {item['text']}\")\n",
    "\n",
    "except Exception as e:\n",
    "    print(f\"Произошла ошибка: {str(e)}\")"
   ]
  }
 ],
 "metadata": {
  "kernelspec": {
   "display_name": "Python 3 (ipykernel)",
   "language": "python",
   "name": "python3"
  },
  "language_info": {
   "codemirror_mode": {
    "name": "ipython",
    "version": 3
   },
   "file_extension": ".py",
   "mimetype": "text/x-python",
   "name": "python",
   "nbconvert_exporter": "python",
   "pygments_lexer": "ipython3",
   "version": "3.13.2"
  }
 },
 "nbformat": 4,
 "nbformat_minor": 5
}
