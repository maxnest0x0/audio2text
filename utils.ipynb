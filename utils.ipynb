{
  "nbformat": 4,
  "nbformat_minor": 0,
  "metadata": {
    "colab": {
      "provenance": []
    },
    "kernelspec": {
      "name": "python3",
      "display_name": "Python 3"
    },
    "language_info": {
      "name": "python"
    }
  },
  "cells": [
    {
      "cell_type": "code",
      "source": [
        "!pip install pydub numpy noisereduce soundfile librosa\n",
        "!apt install ffmpeg\n",
        "!apt-get install libsndfile1"
      ],
      "metadata": {
        "colab": {
          "base_uri": "https://localhost:8080/"
        },
        "collapsed": true,
        "id": "QgG8aXM09raa",
        "outputId": "d4b30da7-5f51-4b5a-9d79-3465b18c5286"
      },
      "execution_count": 1,
      "outputs": [
        {
          "output_type": "stream",
          "name": "stdout",
          "text": [
            "Collecting pydub\n",
            "  Downloading pydub-0.25.1-py2.py3-none-any.whl.metadata (1.4 kB)\n",
            "Requirement already satisfied: numpy in /usr/local/lib/python3.11/dist-packages (1.26.4)\n",
            "Collecting noisereduce\n",
            "  Downloading noisereduce-3.0.3-py3-none-any.whl.metadata (14 kB)\n",
            "Requirement already satisfied: soundfile in /usr/local/lib/python3.11/dist-packages (0.13.1)\n",
            "Requirement already satisfied: librosa in /usr/local/lib/python3.11/dist-packages (0.10.2.post1)\n",
            "Requirement already satisfied: scipy in /usr/local/lib/python3.11/dist-packages (from noisereduce) (1.13.1)\n",
            "Requirement already satisfied: matplotlib in /usr/local/lib/python3.11/dist-packages (from noisereduce) (3.10.0)\n",
            "Requirement already satisfied: tqdm in /usr/local/lib/python3.11/dist-packages (from noisereduce) (4.67.1)\n",
            "Requirement already satisfied: joblib in /usr/local/lib/python3.11/dist-packages (from noisereduce) (1.4.2)\n",
            "Requirement already satisfied: cffi>=1.0 in /usr/local/lib/python3.11/dist-packages (from soundfile) (1.17.1)\n",
            "Requirement already satisfied: audioread>=2.1.9 in /usr/local/lib/python3.11/dist-packages (from librosa) (3.0.1)\n",
            "Requirement already satisfied: scikit-learn>=0.20.0 in /usr/local/lib/python3.11/dist-packages (from librosa) (1.6.1)\n",
            "Requirement already satisfied: decorator>=4.3.0 in /usr/local/lib/python3.11/dist-packages (from librosa) (4.4.2)\n",
            "Requirement already satisfied: numba>=0.51.0 in /usr/local/lib/python3.11/dist-packages (from librosa) (0.60.0)\n",
            "Requirement already satisfied: pooch>=1.1 in /usr/local/lib/python3.11/dist-packages (from librosa) (1.8.2)\n",
            "Requirement already satisfied: soxr>=0.3.2 in /usr/local/lib/python3.11/dist-packages (from librosa) (0.5.0.post1)\n",
            "Requirement already satisfied: typing-extensions>=4.1.1 in /usr/local/lib/python3.11/dist-packages (from librosa) (4.12.2)\n",
            "Requirement already satisfied: lazy-loader>=0.1 in /usr/local/lib/python3.11/dist-packages (from librosa) (0.4)\n",
            "Requirement already satisfied: msgpack>=1.0 in /usr/local/lib/python3.11/dist-packages (from librosa) (1.1.0)\n",
            "Requirement already satisfied: pycparser in /usr/local/lib/python3.11/dist-packages (from cffi>=1.0->soundfile) (2.22)\n",
            "Requirement already satisfied: packaging in /usr/local/lib/python3.11/dist-packages (from lazy-loader>=0.1->librosa) (24.2)\n",
            "Requirement already satisfied: llvmlite<0.44,>=0.43.0dev0 in /usr/local/lib/python3.11/dist-packages (from numba>=0.51.0->librosa) (0.43.0)\n",
            "Requirement already satisfied: platformdirs>=2.5.0 in /usr/local/lib/python3.11/dist-packages (from pooch>=1.1->librosa) (4.3.6)\n",
            "Requirement already satisfied: requests>=2.19.0 in /usr/local/lib/python3.11/dist-packages (from pooch>=1.1->librosa) (2.32.3)\n",
            "Requirement already satisfied: threadpoolctl>=3.1.0 in /usr/local/lib/python3.11/dist-packages (from scikit-learn>=0.20.0->librosa) (3.5.0)\n",
            "Requirement already satisfied: contourpy>=1.0.1 in /usr/local/lib/python3.11/dist-packages (from matplotlib->noisereduce) (1.3.1)\n",
            "Requirement already satisfied: cycler>=0.10 in /usr/local/lib/python3.11/dist-packages (from matplotlib->noisereduce) (0.12.1)\n",
            "Requirement already satisfied: fonttools>=4.22.0 in /usr/local/lib/python3.11/dist-packages (from matplotlib->noisereduce) (4.56.0)\n",
            "Requirement already satisfied: kiwisolver>=1.3.1 in /usr/local/lib/python3.11/dist-packages (from matplotlib->noisereduce) (1.4.8)\n",
            "Requirement already satisfied: pillow>=8 in /usr/local/lib/python3.11/dist-packages (from matplotlib->noisereduce) (11.1.0)\n",
            "Requirement already satisfied: pyparsing>=2.3.1 in /usr/local/lib/python3.11/dist-packages (from matplotlib->noisereduce) (3.2.1)\n",
            "Requirement already satisfied: python-dateutil>=2.7 in /usr/local/lib/python3.11/dist-packages (from matplotlib->noisereduce) (2.8.2)\n",
            "Requirement already satisfied: six>=1.5 in /usr/local/lib/python3.11/dist-packages (from python-dateutil>=2.7->matplotlib->noisereduce) (1.17.0)\n",
            "Requirement already satisfied: charset-normalizer<4,>=2 in /usr/local/lib/python3.11/dist-packages (from requests>=2.19.0->pooch>=1.1->librosa) (3.4.1)\n",
            "Requirement already satisfied: idna<4,>=2.5 in /usr/local/lib/python3.11/dist-packages (from requests>=2.19.0->pooch>=1.1->librosa) (3.10)\n",
            "Requirement already satisfied: urllib3<3,>=1.21.1 in /usr/local/lib/python3.11/dist-packages (from requests>=2.19.0->pooch>=1.1->librosa) (2.3.0)\n",
            "Requirement already satisfied: certifi>=2017.4.17 in /usr/local/lib/python3.11/dist-packages (from requests>=2.19.0->pooch>=1.1->librosa) (2025.1.31)\n",
            "Downloading pydub-0.25.1-py2.py3-none-any.whl (32 kB)\n",
            "Downloading noisereduce-3.0.3-py3-none-any.whl (22 kB)\n",
            "Installing collected packages: pydub, noisereduce\n",
            "Successfully installed noisereduce-3.0.3 pydub-0.25.1\n",
            "Reading package lists... Done\n",
            "Building dependency tree... Done\n",
            "Reading state information... Done\n",
            "ffmpeg is already the newest version (7:4.4.2-0ubuntu0.22.04.1).\n",
            "0 upgraded, 0 newly installed, 0 to remove and 29 not upgraded.\n",
            "Reading package lists... Done\n",
            "Building dependency tree... Done\n",
            "Reading state information... Done\n",
            "libsndfile1 is already the newest version (1.0.31-2ubuntu0.2).\n",
            "0 upgraded, 0 newly installed, 0 to remove and 29 not upgraded.\n"
          ]
        }
      ]
    },
    {
      "cell_type": "markdown",
      "source": [
        "## 1. Разделение аудио на чанки\n"
      ],
      "metadata": {
        "id": "d_MUU04o6VaG"
      }
    },
    {
      "cell_type": "code",
      "source": [
        "from pydub import AudioSegment\n",
        "from pydub.utils import make_chunks\n",
        "import os"
      ],
      "metadata": {
        "id": "RfVsuCQD6h1A"
      },
      "execution_count": null,
      "outputs": []
    },
    {
      "cell_type": "code",
      "source": [
        "def split_audio(input_file, output_folder, count_chunks, format='mp3'):\n",
        "    audio = AudioSegment.from_file(input_file)\n",
        "    chunk_length = len(audio) // count_chunks\n",
        "    chunks = make_chunks(audio, chunk_length)\n",
        "\n",
        "    output_files = []\n",
        "    for i, chunk in enumerate(chunks):\n",
        "        output_file_name = f'chunk_{i}.{format}'\n",
        "        output_path = os.path.join(output_folder, output_file_name)\n",
        "        chunk.export(output_path, format)\n",
        "        output_files.append(output_path)\n",
        "\n",
        "    return output_files"
      ],
      "metadata": {
        "id": "yhAj324T6iOM"
      },
      "execution_count": null,
      "outputs": []
    },
    {
      "cell_type": "code",
      "source": [
        "input_file = ''\n",
        "output_folder = ''\n",
        "count_chunks = 10\n",
        "\n",
        "split_audio(input_file, output_folder, count_chunks)"
      ],
      "metadata": {
        "id": "pzrkZi6l6nHZ"
      },
      "execution_count": null,
      "outputs": []
    },
    {
      "cell_type": "markdown",
      "source": [
        "## 2. Фильтрация шума на аудио"
      ],
      "metadata": {
        "id": "jOI3HtQ96pud"
      }
    },
    {
      "cell_type": "code",
      "source": [
        "import numpy as np\n",
        "from pydub import AudioSegment\n",
        "import noisereduce\n",
        "import soundfile\n",
        "import librosa\n",
        "import os"
      ],
      "metadata": {
        "id": "AcFPn7voDyqL"
      },
      "execution_count": null,
      "outputs": []
    },
    {
      "cell_type": "code",
      "source": [
        "def filter_sound(input_file, output_folder, noise_start=0, noise_duration=0.5, reduction_strength=0.8, format='mp3'):\n",
        "    temp_input_file = 'temp_input_file.wav'\n",
        "    temp_filter_file = 'temp_filter_file.wav'\n",
        "\n",
        "    try:\n",
        "        audio = AudioSegment.from_file(input_file)\n",
        "        audio.export(temp_input_file, format='wav')\n",
        "\n",
        "        y, sr = librosa.load(temp_input_file, sr=None)\n",
        "        noise_samples = y[int(noise_start * sr):int((noise_start + noise_duration) * sr)]\n",
        "        filtered_y = noisereduce.reduce_noise(\n",
        "            y=y,\n",
        "            sr=sr,\n",
        "            y_noise=noise_samples,\n",
        "            stationary=True,\n",
        "            prop_decrease=reduction_strength\n",
        "        )\n",
        "\n",
        "        soundfile.write(temp_filter_file, filtered_y, sr)\n",
        "\n",
        "        filtered_audio = AudioSegment.from_wav(temp_filter_file)\n",
        "        file_name = f'filtered_audio.{format}'\n",
        "        output_path = os.path.join(output_folder, file_name)\n",
        "        filtered_audio.export(output_path, format)\n",
        "    finally:\n",
        "        if os.path.exists(temp_input_file):\n",
        "            os.remove(temp_input_file)\n",
        "        if os.path.exists(temp_filter_file):\n",
        "            os.remove(temp_filter_file)"
      ],
      "metadata": {
        "id": "0mDuRmzi9GbF"
      },
      "execution_count": null,
      "outputs": []
    },
    {
      "cell_type": "code",
      "source": [
        "input_file = '/content/drive/MyDrive/DHDHDBDHDHS.mp3'\n",
        "output_folder = '/content/sample_data'\n",
        "\n",
        "filter_sound(input_file, output_folder)"
      ],
      "metadata": {
        "id": "ri4kMDTSQLU7"
      },
      "execution_count": null,
      "outputs": []
    },
    {
      "cell_type": "markdown",
      "source": [
        "## 3. Нормализация звука"
      ],
      "metadata": {
        "id": "ldwVn4pK9Aaf"
      }
    },
    {
      "cell_type": "code",
      "source": [
        "from pydub import AudioSegment, effects\n",
        "import os"
      ],
      "metadata": {
        "id": "_teuT72W9EZt"
      },
      "execution_count": null,
      "outputs": []
    },
    {
      "cell_type": "code",
      "source": [
        "def normalize_audio(input_file, output_folder, format='mp3'):\n",
        "    audio = AudioSegment.from_file(input_file)\n",
        "    normalized_audio = effects.normalize(audio)\n",
        "\n",
        "    file_name = f'normalized_audio.{format}'\n",
        "    output_path = os.path.join(output_folder, file_name)\n",
        "    normalized_audio.export(output_path, format)\n",
        "\n",
        "    return output_path"
      ],
      "metadata": {
        "id": "2bHutfnv9yNz"
      },
      "execution_count": null,
      "outputs": []
    },
    {
      "cell_type": "code",
      "source": [
        "input_file = ''\n",
        "output_folder = ''\n",
        "\n",
        "normalize_audio(input_file, output_folder)"
      ],
      "metadata": {
        "colab": {
          "base_uri": "https://localhost:8080/",
          "height": 36
        },
        "id": "_Acwb7uX_mhD",
        "outputId": "61f8873a-96c2-4742-c1c2-bb35d7fed562"
      },
      "execution_count": null,
      "outputs": [
        {
          "output_type": "execute_result",
          "data": {
            "text/plain": [
              "'/content/sample_data/normalized_audio.mp3'"
            ],
            "application/vnd.google.colaboratory.intrinsic+json": {
              "type": "string"
            }
          },
          "metadata": {},
          "execution_count": 13
        }
      ]
    },
    {
      "cell_type": "markdown",
      "source": [
        "## 4. Полная обработка аудио"
      ],
      "metadata": {
        "id": "nQ41FqLz-Psn"
      }
    },
    {
      "cell_type": "code",
      "source": [
        "from pydub import AudioSegment, effects\n",
        "from pydub.utils import make_chunks\n",
        "\n",
        "import noisereduce\n",
        "import soundfile\n",
        "import librosa\n",
        "import numpy as np\n",
        "import os"
      ],
      "metadata": {
        "id": "TwemiRQP-Tkl"
      },
      "execution_count": 2,
      "outputs": []
    },
    {
      "cell_type": "markdown",
      "source": [
        "Далее я перерабатываю методы для использования в одной функции"
      ],
      "metadata": {
        "id": "ur0Z4mkNRf3g"
      }
    },
    {
      "cell_type": "code",
      "source": [
        "def normalize_audio(input_file):\n",
        "    audio = AudioSegment.from_file(input_file)\n",
        "    normalized_audio = effects.normalize(audio)\n",
        "\n",
        "    return normalized_audio"
      ],
      "metadata": {
        "id": "H1ZMb97MRP3_"
      },
      "execution_count": 3,
      "outputs": []
    },
    {
      "cell_type": "code",
      "source": [
        "def filter_sound(audio, noise_start=0, noise_duration=0.5, reduction_strength=0.8):\n",
        "    temp_input_file = 'temp_input_file.wav'\n",
        "    temp_filter_file = 'temp_filter_file.wav'\n",
        "\n",
        "    try:\n",
        "        audio.export(temp_input_file, format='wav')\n",
        "\n",
        "        y, sr = librosa.load(temp_input_file, sr=None)\n",
        "        noise_samples = y[int(noise_start * sr):int((noise_start + noise_duration) * sr)]\n",
        "        filtered_y = noisereduce.reduce_noise(\n",
        "            y=y,\n",
        "            sr=sr,\n",
        "            y_noise=noise_samples,\n",
        "            stationary=True,\n",
        "            prop_decrease=reduction_strength\n",
        "        )\n",
        "\n",
        "        soundfile.write(temp_filter_file, filtered_y, sr)\n",
        "        filtered_audio = AudioSegment.from_wav(temp_filter_file)\n",
        "    finally:\n",
        "        if os.path.exists(temp_input_file):\n",
        "            os.remove(temp_input_file)\n",
        "        if os.path.exists(temp_filter_file):\n",
        "            os.remove(temp_filter_file)\n",
        "\n",
        "    return filtered_audio"
      ],
      "metadata": {
        "id": "t2j8kaXdRPsn"
      },
      "execution_count": 4,
      "outputs": []
    },
    {
      "cell_type": "code",
      "source": [
        "def split_audio(audio, output_folder, count_chunks, format='mp3'):\n",
        "    chunk_length = len(audio) // count_chunks\n",
        "    chunks = make_chunks(audio, chunk_length)\n",
        "\n",
        "    output_files = []\n",
        "    for i, chunk in enumerate(chunks):\n",
        "        output_file_name = f'chunk_{i}.{format}'\n",
        "        output_path = os.path.join(output_folder, output_file_name)\n",
        "        chunk.export(output_path, format)\n",
        "        output_files.append(output_path)\n",
        "\n",
        "    return output_files"
      ],
      "metadata": {
        "id": "W0irIG6i-X3v"
      },
      "execution_count": 5,
      "outputs": []
    },
    {
      "cell_type": "code",
      "source": [
        "def process_audio(input_file, output_folder, count_chunks, format='mp3'):\n",
        "    norm_audio = normalize_audio(input_file)\n",
        "    filtered_audio = filter_sound(norm_audio)\n",
        "    output_files = split_audio(filtered_audio, output_folder, count_chunks, format)\n",
        "\n",
        "    return output_files"
      ],
      "metadata": {
        "id": "qOsjPJXmR6Yj"
      },
      "execution_count": 6,
      "outputs": []
    },
    {
      "cell_type": "code",
      "source": [
        "input_file = ''\n",
        "output_folder = ''\n",
        "count_chunks = 3\n",
        "\n",
        "process_audio(input_file, output_folder, count_chunks)"
      ],
      "metadata": {
        "colab": {
          "base_uri": "https://localhost:8080/"
        },
        "id": "-5skXfG5TScP",
        "outputId": "f77c5a9c-c646-4f57-d88c-9e770593f9c2"
      },
      "execution_count": 7,
      "outputs": [
        {
          "output_type": "execute_result",
          "data": {
            "text/plain": [
              "['/content/sample_data/chunk_0.mp3',\n",
              " '/content/sample_data/chunk_1.mp3',\n",
              " '/content/sample_data/chunk_2.mp3']"
            ]
          },
          "metadata": {},
          "execution_count": 7
        }
      ]
    },
    {
      "cell_type": "code",
      "source": [],
      "metadata": {
        "id": "GhCsWdvcTtfg"
      },
      "execution_count": null,
      "outputs": []
    }
  ]
}